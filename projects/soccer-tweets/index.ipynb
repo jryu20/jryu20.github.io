{
 "cells": [
  {
   "cell_type": "markdown",
   "id": "1423ff28-2d1d-4933-97d5-5328c1b9fa5f",
   "metadata": {},
   "source": [
    "---\n",
    "title: \"Classifying Soccer Tweets\"\n",
    "image: soccer.jpg\n",
    "author: \"Nathan, Jun\"\n",
    "date: \"2024-03-24\"\n",
    "categories: [R, visualizations, ML, sentiment analysis]\n",
    "---"
   ]
  },
  {
   "cell_type": "markdown",
   "id": "3efa63d9-9f30-45b2-bdb7-f2460670b698",
   "metadata": {},
   "source": [
    "> The goal of this project was to analyze the collection of tweets from 7 European Soccer Clubs (AFC Ajax, AC Milan, FC Barcelona, FC Bayern, Juventus FC, Liverpool FC, Real Madrid) between January 2019 and July 2019. Specifically, we wanted to see the various tones/sentiments of the clubs’ tweets and determine how accurately we can predict the origin of the tweet based on its textual content. To conduct the analysis, we cleaned the data, found the term frequencies, ran sentiment analysis, and applied both unsupervised and supervised machine learning.\n",
    "\n",
    "Attached below is our report:"
   ]
  },
  {
   "cell_type": "raw",
   "id": "aa1b1bc2-c1e7-48ff-a9dc-348b4e040ee2",
   "metadata": {},
   "source": [
    "<object data=\"soccer-paper.pdf\" type=\"application/pdf\" width=\"800px\" height=\"600px\">\n",
    "    <embed src=\"soccer-paper.pdf\">\n",
    "</object>"
   ]
  },
  {
   "cell_type": "code",
   "execution_count": null,
   "id": "bbb5ca14-61c4-4465-b64c-4d0a5728ebf2",
   "metadata": {},
   "outputs": [],
   "source": []
  }
 ],
 "metadata": {
  "kernelspec": {
   "display_name": "Python 3 (ipykernel)",
   "language": "python",
   "name": "python3"
  },
  "language_info": {
   "codemirror_mode": {
    "name": "ipython",
    "version": 3
   },
   "file_extension": ".py",
   "mimetype": "text/x-python",
   "name": "python",
   "nbconvert_exporter": "python",
   "pygments_lexer": "ipython3",
   "version": "3.9.13"
  }
 },
 "nbformat": 4,
 "nbformat_minor": 5
}

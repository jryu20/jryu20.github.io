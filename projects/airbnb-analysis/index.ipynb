{
 "cells": [
  {
   "cell_type": "markdown",
   "id": "5df13f4e-c6ba-41d2-ae49-af608d09db87",
   "metadata": {},
   "source": [
    "---\n",
    "title: \"Airbnb Landscape in LA\"\n",
    "image: airbnb.jpg\n",
    "author: \"Peike, Franklin, Jun, Khang, Audrey, Kiv\"\n",
    "date: \"2024-05-29\"\n",
    "categories: [python, R, Tableau, visualizations, ML, sentiment analysis]\n",
    "---"
   ]
  },
  {
   "cell_type": "markdown",
   "id": "d709acaa-e982-4cc1-b40d-6f73e276a2b1",
   "metadata": {},
   "source": [
    "> This project provides a comprehensive analysis of Airbnb listings and hosts in Los Angeles using data from Inside Airbnb. Key components include identifying predictors of becoming a superhost with logistic regression and random forest models, creating an interactive dashboard to help guests find suitable listings, and analyzing listings using sentiment analysis on reviews and topic modeling with LDA.\n",
    "\n",
    "Attached below is the presentation that summarizes our findings:"
   ]
  },
  {
   "cell_type": "raw",
   "id": "08bcf3a9-81ee-4b78-8af8-a3c179a5df43",
   "metadata": {},
   "source": [
    "<object data=\"la-airbnb.pdf\" type=\"application/pdf\" width=\"800px\" height=\"800px\">\n",
    "    <embed src=\"la-airbnb.pdf\">\n",
    "</object>"
   ]
  }
 ],
 "metadata": {
  "kernelspec": {
   "display_name": "Python 3 (ipykernel)",
   "language": "python",
   "name": "python3"
  },
  "language_info": {
   "codemirror_mode": {
    "name": "ipython",
    "version": 3
   },
   "file_extension": ".py",
   "mimetype": "text/x-python",
   "name": "python",
   "nbconvert_exporter": "python",
   "pygments_lexer": "ipython3",
   "version": "3.9.13"
  }
 },
 "nbformat": 4,
 "nbformat_minor": 5
}

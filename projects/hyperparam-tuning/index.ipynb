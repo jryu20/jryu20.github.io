{
 "cells": [
  {
   "cell_type": "markdown",
   "id": "a3c9d2aa-28bb-4744-b403-0f490222bc77",
   "metadata": {},
   "source": [
    "---\n",
    "title: \"Efficient Hyperparameter Tuning for Resource-Constrained Environments\"\n",
    "image: deep-learning.jpg\n",
    "author: \"Ethan, Kelsey, Jun, Catherine\"\n",
    "date: \"2024-06-14\"\n",
    "categories: [python, research, deep learning]\n",
    "---"
   ]
  },
  {
   "cell_type": "markdown",
   "id": "484098f0-f97a-4d31-ad66-29fec3f711a2",
   "metadata": {},
   "source": [
    "> This study addresses the challenges posed by resource constraints, particularly on edge devices with limited computational power. Hyperparameter tuning is crucial for optimizing deep neural networks but is often computationally expensive. We propose an efficient framework using Latin Hypercube Sampling (LHS) and surrogate models like Gaussian Processes to reduce computational burden. This approach significantly reduces time while improving or maintaining model accuracy compared to traditional grid search methods.\n",
    "\n",
    "Attached below is our research findings:"
   ]
  },
  {
   "cell_type": "raw",
   "id": "47a9b038-96f4-4fee-bac0-3f187e3e73a7",
   "metadata": {},
   "source": [
    "<object data=\"hyperparam-research.pdf\" type=\"application/pdf\" width=\"800px\" height=\"600px\">\n",
    "    <embed src=\"hyperparam-research.pdf\">\n",
    "</object>"
   ]
  },
  {
   "cell_type": "code",
   "execution_count": null,
   "id": "3efb63ba-047b-44ae-908e-54caaea84730",
   "metadata": {},
   "outputs": [],
   "source": []
  }
 ],
 "metadata": {
  "kernelspec": {
   "display_name": "Python 3 (ipykernel)",
   "language": "python",
   "name": "python3"
  },
  "language_info": {
   "codemirror_mode": {
    "name": "ipython",
    "version": 3
   },
   "file_extension": ".py",
   "mimetype": "text/x-python",
   "name": "python",
   "nbconvert_exporter": "python",
   "pygments_lexer": "ipython3",
   "version": "3.9.13"
  }
 },
 "nbformat": 4,
 "nbformat_minor": 5
}

{
 "cells": [
  {
   "cell_type": "markdown",
   "id": "c1520670-5809-4d43-a989-6103d2f8cba3",
   "metadata": {},
   "source": [
    "---\n",
    "title: \"Indicators of Heart Disease\"\n",
    "image: heart.jpg\n",
    "author: \"Junze, Jun, Arya, Giovanni\"\n",
    "date: \"2024-03-06\"\n",
    "categories: [python, feature engineering, ML]\n",
    "---"
   ]
  },
  {
   "cell_type": "markdown",
   "id": "96e62f39-c096-4ffe-b0da-da6aa21d40dd",
   "metadata": {},
   "source": [
    "> This project develops classification models to predict heart disease based on simple indicators such as BMI, age, and walking speed, using data from a 2022 CDC heart disease survey. The purpose is to help individuals understand how to avoid heart disease by recognizing these indicators. Additionally, the machine learning model allows people to assess their probability of developing heart disease, enabling them to adopt a healthier lifestyle.\n",
    "\n",
    "Attached below is the presentation that summarizes our findings:"
   ]
  },
  {
   "cell_type": "raw",
   "id": "bc2c4576-b9ec-4d61-a454-f99fc722a929",
   "metadata": {},
   "source": [
    "<object data=\"disease-classification.pdf\" type=\"application/pdf\" width=\"800px\" height=\"800px\">\n",
    "    <embed src=\"disease-classification.pdf\">\n",
    "</object>"
   ]
  }
 ],
 "metadata": {
  "kernelspec": {
   "display_name": "Python 3 (ipykernel)",
   "language": "python",
   "name": "python3"
  },
  "language_info": {
   "codemirror_mode": {
    "name": "ipython",
    "version": 3
   },
   "file_extension": ".py",
   "mimetype": "text/x-python",
   "name": "python",
   "nbconvert_exporter": "python",
   "pygments_lexer": "ipython3",
   "version": "3.9.13"
  }
 },
 "nbformat": 4,
 "nbformat_minor": 5
}

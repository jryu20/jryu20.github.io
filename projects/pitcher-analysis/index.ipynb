{
 "cells": [
  {
   "cell_type": "markdown",
   "id": "ba490300-a386-42b6-b6c0-ed194a5f5c94",
   "metadata": {},
   "source": [
    "---\n",
    "title: \"Pitcher Injury Analysis\"\n",
    "image: pitcher.jpg\n",
    "author: \"Kyle, Donggyu, Min Jung, Cherry, Jun\"\n",
    "date: \"2024-06-08\"\n",
    "categories: [python, R, statistics, visualizations, ML]\n",
    "---"
   ]
  },
  {
   "cell_type": "markdown",
   "id": "0bd4e3ca-0f1e-4e98-9715-730c0cef02b9",
   "metadata": {},
   "source": [
    "> In Major League Baseball (MLB), pitcher injuries significantly impact team performance. This study investigates whether a pitcher’s spin rate predicts injury risk. Spin rate, while crucial for pitch effectiveness, may also increase injury risk due to the physical demands it places on pitchers. Using multiple linear regression and logistic regression models, our analysis found that a lower spin rate can put the pitcher at a higher risk of injury.\n",
    "\n",
    "Attached below is the paper that summarizes our findings:"
   ]
  },
  {
   "cell_type": "raw",
   "id": "325eb7e7-f5e2-492d-ab77-8678e75a0ca6",
   "metadata": {},
   "source": [
    "<object data=\"mlb-report.pdf\" type=\"application/pdf\" width=\"800px\" height=\"800px\">\n",
    "    <embed src=\"mlb-report.pdf\">\n",
    "</object>"
   ]
  },
  {
   "cell_type": "code",
   "execution_count": null,
   "id": "52084e6f-a08b-464b-9308-e492626e27b9",
   "metadata": {},
   "outputs": [],
   "source": []
  }
 ],
 "metadata": {
  "kernelspec": {
   "display_name": "Python 3 (ipykernel)",
   "language": "python",
   "name": "python3"
  },
  "language_info": {
   "codemirror_mode": {
    "name": "ipython",
    "version": 3
   },
   "file_extension": ".py",
   "mimetype": "text/x-python",
   "name": "python",
   "nbconvert_exporter": "python",
   "pygments_lexer": "ipython3",
   "version": "3.9.13"
  }
 },
 "nbformat": 4,
 "nbformat_minor": 5
}

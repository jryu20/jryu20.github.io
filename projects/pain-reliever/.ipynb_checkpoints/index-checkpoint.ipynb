{
 "cells": [
  {
   "cell_type": "markdown",
   "id": "d5dff833-1810-4d28-be7d-defe77c1c4d1",
   "metadata": {},
   "source": [
    "---\n",
    "title: \"Pain Reliever Misuse and Abuse\"\n",
    "image: medication.jpg\n",
    "author: \"Ainsley, Jun, Nick, Rachel, Rosie, Yulia, Aashna\"\n",
    "date: \"2023-12-01\"\n",
    "categories: [python, R, visualizations]\n",
    "---"
   ]
  },
  {
   "cell_type": "markdown",
   "id": "2d9bc767-4891-4720-911d-8d840a449468",
   "metadata": {},
   "source": [
    "> This project analyzes a dataset of over 170,000 observations to understand the misuse and abuse of pain relievers. The objective is to identify demographic factors, such as age and education level, associated with higher rates of misuse and to examine the relationship between other drug use and pain reliever abuse.\n",
    "\n",
    "Attached below is the presentation that summarizes our findings:"
   ]
  },
  {
   "cell_type": "raw",
   "id": "1cf12ec1-2f18-4536-809b-b991ddeef0f4",
   "metadata": {},
   "source": [
    "<object data=\"PR-presentation.pdf\" type=\"application/pdf\" width=\"800px\" height=\"800px\">\n",
    "    <embed src=\"PR-presentation.pdf\">\n",
    "</object>"
   ]
  }
 ],
 "metadata": {
  "kernelspec": {
   "display_name": "Python 3 (ipykernel)",
   "language": "python",
   "name": "python3"
  },
  "language_info": {
   "codemirror_mode": {
    "name": "ipython",
    "version": 3
   },
   "file_extension": ".py",
   "mimetype": "text/x-python",
   "name": "python",
   "nbconvert_exporter": "python",
   "pygments_lexer": "ipython3",
   "version": "3.9.13"
  }
 },
 "nbformat": 4,
 "nbformat_minor": 5
}

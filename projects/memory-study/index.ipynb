{
 "cells": [
  {
   "cell_type": "markdown",
   "id": "c6eaeee7-b65d-464d-9e10-79e2efb87ce5",
   "metadata": {},
   "source": [
    "---\n",
    "title: \"Effects of Various Substances on Memory\"\n",
    "image: cards.jpeg\n",
    "author: \"Jun, Justin, Nathan, Samyi\"\n",
    "date: \"2023-09-21\"\n",
    "categories: [statistics, visualizations]\n",
    "---"
   ]
  },
  {
   "cell_type": "markdown",
   "id": "a300f3c4-7cd2-47c4-ac13-00beef17bf1c",
   "metadata": {},
   "source": [
    "> The impact and influence of psychoactive substances to human cognition, particularly memory, has been\n",
    "of interest to scientific inquiry. With numerous substances impacting the lifestyles of virtually all working\n",
    "individuals around the world, experiments and studies help us understand cognitive influences further. In our\n",
    "study, we experiment with three substances: 100 mg caffeine tablets, 30 mL vodka shots, and reefers among\n",
    "36 randomly selected working-age males in the city of Hofn.\n",
    "\n",
    "Attached below is the paper that details the experiment:"
   ]
  },
  {
   "cell_type": "raw",
   "id": "0bb9c7b5-8d2c-4e62-87d2-c5d9fc45bac7",
   "metadata": {},
   "source": [
    "<object data=\"experiment.pdf\" type=\"application/pdf\" width=\"800px\" height=\"600px\">\n",
    "    <embed src=\"experiment.pdf\">\n",
    "</object>"
   ]
  },
  {
   "cell_type": "code",
   "execution_count": null,
   "id": "8f23f6a7-2324-4f5b-b829-ad5d54b7d721",
   "metadata": {},
   "outputs": [],
   "source": []
  }
 ],
 "metadata": {
  "kernelspec": {
   "display_name": "Python 3 (ipykernel)",
   "language": "python",
   "name": "python3"
  },
  "language_info": {
   "codemirror_mode": {
    "name": "ipython",
    "version": 3
   },
   "file_extension": ".py",
   "mimetype": "text/x-python",
   "name": "python",
   "nbconvert_exporter": "python",
   "pygments_lexer": "ipython3",
   "version": "3.9.13"
  }
 },
 "nbformat": 4,
 "nbformat_minor": 5
}

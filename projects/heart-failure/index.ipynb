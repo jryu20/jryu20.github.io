{
 "cells": [
  {
   "cell_type": "markdown",
   "id": "d0792add-863c-4a11-8ee3-a0dc0022d3a6",
   "metadata": {},
   "source": [
    "---\n",
    "title: \"Predicting Heart Failure\"\n",
    "image: doctor.jpg\n",
    "author: \"Ashish, Tian, Jun, Yuki, Teresa, Sesha\"\n",
    "date: \"2024-03-15\"\n",
    "categories: [python, ML]\n",
    "---"
   ]
  },
  {
   "cell_type": "markdown",
   "id": "66d351af-1d4e-4452-bbe6-9f77347aee8a",
   "metadata": {},
   "source": [
    "> Heart failure is a serious cardiovascular condition with high morbidity and mortality rates worldwide, warranting further research. Due to its complexity and the wide range of risk factors, such as lifestyle choices, comorbidities, and demographic traits, accurately predicting patient outcomes requires a comprehensive approach. Our goal was to leverage machine learning techniques to achieve optimal accuracy in predicting mortality based on a variety of predictors.\n",
    "\n",
    "Attached below is the poster that summarizes our findings:"
   ]
  },
  {
   "cell_type": "raw",
   "id": "92a63de1-2750-42ce-9710-eddc9d9f84e1",
   "metadata": {},
   "source": [
    "<object data=\"heart-poster.pdf\" type=\"application/pdf\" width=\"800px\" height=\"600px\">\n",
    "    <embed src=\"heart-poster.pdf\">\n",
    "</object>"
   ]
  },
  {
   "cell_type": "code",
   "execution_count": null,
   "id": "14b4f414-2998-4391-b3cc-6e8e7444885f",
   "metadata": {},
   "outputs": [],
   "source": []
  }
 ],
 "metadata": {
  "kernelspec": {
   "display_name": "Python 3 (ipykernel)",
   "language": "python",
   "name": "python3"
  },
  "language_info": {
   "codemirror_mode": {
    "name": "ipython",
    "version": 3
   },
   "file_extension": ".py",
   "mimetype": "text/x-python",
   "name": "python",
   "nbconvert_exporter": "python",
   "pygments_lexer": "ipython3",
   "version": "3.9.13"
  }
 },
 "nbformat": 4,
 "nbformat_minor": 5
}

{
 "cells": [
  {
   "cell_type": "markdown",
   "id": "9a6b8c76-7d32-4075-af27-87d9ecc5ed94",
   "metadata": {},
   "source": [
    "---\n",
    "title: \"IMDB Sentiment Prediction\"\n",
    "image: imdb.png\n",
    "author: \"Maika, Maneh, Aaron, Yuki, Andrew, Jun\"\n",
    "date: \"2023-12-12\"\n",
    "categories: [python, ML]\n",
    "---"
   ]
  },
  {
   "cell_type": "markdown",
   "id": "ef9adfbb-2fa8-4f36-adec-4ff5efafdc28",
   "metadata": {},
   "source": [
    "> The Internet Movie Database (IMDB) offers extensive information on movies, TV shows, video games, and streaming content. It enables users to rate and review movies. The 'IMDB Dataset of 50K Movie Reviews,' intended for binary sentiment classification, includes only positive and negative ratings. Our goal is to examine the relationship between ratings and reviews and to predict sentiments using Logistic Regression, Logistic Regression with Stochastic Gradient Descent, K-Nearest Neighbors, and Random Forest models.\n",
    "\n",
    "Attached below is our report:"
   ]
  },
  {
   "cell_type": "raw",
   "id": "c6a136d3-b99d-433a-b68f-bed4f3e4dee9",
   "metadata": {},
   "source": [
    "<object data=\"imdb-analysis.pdf\" type=\"application/pdf\" width=\"800px\" height=\"600px\">\n",
    "    <embed src=\"imdb-analysis.pdf\">\n",
    "</object>"
   ]
  },
  {
   "cell_type": "code",
   "execution_count": null,
   "id": "22e65334-f8f6-4ed5-a8f0-a89023af5338",
   "metadata": {},
   "outputs": [],
   "source": []
  }
 ],
 "metadata": {
  "kernelspec": {
   "display_name": "Python 3 (ipykernel)",
   "language": "python",
   "name": "python3"
  },
  "language_info": {
   "codemirror_mode": {
    "name": "ipython",
    "version": 3
   },
   "file_extension": ".py",
   "mimetype": "text/x-python",
   "name": "python",
   "nbconvert_exporter": "python",
   "pygments_lexer": "ipython3",
   "version": "3.9.13"
  }
 },
 "nbformat": 4,
 "nbformat_minor": 5
}

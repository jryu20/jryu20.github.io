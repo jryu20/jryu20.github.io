{
 "cells": [
  {
   "cell_type": "markdown",
   "id": "b2b2901e-af76-4f3d-9b86-c9835033106a",
   "metadata": {},
   "source": [
    "---\n",
    "title: \"Fluid Dynamics with PDE\"\n",
    "format:\n",
    "  html:\n",
    "    toc: true\n",
    "author: \"Jun Ryu\"\n",
    "date: \"2022-12-02\"\n",
    "categories: [PDE]\n",
    "---"
   ]
  },
  {
   "cell_type": "markdown",
   "id": "053c0865-aa4e-4b11-a2e0-1b4ed4ecf16d",
   "metadata": {},
   "source": [
    "> A one-dimensional compressible fluid blob starts at $t = 0$ with uniform density $\\rho \\equiv 1$ on $1 \\leq x \\leq 2$. \n",
    "\n",
    "> It obeys the conservation of mass equation $$\\frac{\\partial \\rho}{\\partial t} + \\frac{\\partial (\\rho \\mathcal{v})}{\\partial x} = 0$$ with the (Eulerian) velocity field given as $\\mathcal{v}(x, t) = x^2e^{-3t}$.\n",
    "\n",
    "(a) Find the density of the blob for $t \\geq 0$ as a function of position and time, $\\rho = \\rho(x, t)$. \n",
    "(b) Find the positions of the free-boundaries, $x_1(t), x_2(t)$ (the left and right edges of the blob).\n",
    "(c) Use your results from the above parts to directly evaluate the integral $$\\int_{x_1(t)}^{x_2(t)} \\rho(x, t) \\:dx$$ and show that this is consistent with the Reynolds transport theorem.\n",
    "\n",
    "---"
   ]
  },
  {
   "cell_type": "markdown",
   "id": "1c243b27-53fd-495e-b82d-4979a51efc40",
   "metadata": {},
   "source": [
    "## A)\n",
    "\n",
    "We start with the conservation of mass equation: \n",
    "$$\\frac{\\partial \\rho}{\\partial t} + \\frac{\\partial (\\rho \\mathcal{v})}{\\partial x} = 0$$\n",
    "\n",
    "We use the Chain Rule, plug in what was given, and rearrange:\n",
    "$$\\frac{\\partial \\rho}{\\partial t} + \\frac{\\partial \\rho}{\\partial x}\\mathcal{v} + \\frac{\\partial \\mathcal{v}}{\\partial x}\\rho = 0$$\n",
    "\n",
    "$$\\frac{\\partial \\rho}{\\partial t} + (x^2e^{-3t})\\frac{\\partial \\rho}{\\partial x} = -2xe^{-3t}\\rho$$\n",
    "\n",
    "We are now ready to use the method of characteristics!"
   ]
  },
  {
   "cell_type": "markdown",
   "id": "b90abaf6-ab27-46a6-a785-b3f24d62445f",
   "metadata": {},
   "source": []
  },
  {
   "cell_type": "markdown",
   "id": "34cb3c2d-7edb-4235-8838-69439012d7aa",
   "metadata": {},
   "source": [
    "## B)\n",
    "\n",
    "We have that $x$ starts off bounded ($1 \\leq x \\leq 2$) so...\n",
    "\n",
    "$$x_1(0) = 1 \\Rightarrow A_1 = 1$$\n",
    "$$x_2(0) = 2 \\Rightarrow A_2 = 2$$\n",
    "\n",
    "from the setup in Part A. We also had:\n",
    "\n",
    "$$x := \\left(\\frac{1}{A}+\\frac{e^{-3t}}{3}-\\frac{1}{3}\\right)^{-1}$$\n",
    "\n",
    "This gives us:\n",
    "\n",
    "$$x_1(t) = \\left(\\frac{1}{A_1}+\\frac{e^{-3t}}{3}-\\frac{1}{3}\\right)^{-1} \\Rightarrow \\left(\\frac{e^{-3t}}{3}+\\frac{2}{3}\\right)^{-1} = \\boxed{\\frac{3}{2+e^{-3t}}}$$\n",
    "$$x_2(t) = \\left(\\frac{1}{A_2}+\\frac{e^{-3t}}{3}-\\frac{1}{3}\\right)^{-1} \\Rightarrow \\left(\\frac{e^{-3t}}{3}+\\frac{1}{6}\\right)^{-1} = \\boxed{\\frac{6}{1+2e^{-3t}}}$$"
   ]
  },
  {
   "cell_type": "markdown",
   "id": "7dcb92f5-b392-48ee-bcab-55d54a8ab910",
   "metadata": {},
   "source": [
    "## C)\n",
    "\n",
    "Combining Parts A & B:\n",
    "\n",
    "$$\\int_{x_1(t)}^{x_2(t)} \\rho(x, t) dx = \\int_{\\frac{3}{2+e^{-3t}}}^{\\frac{6}{1+2e^{-3t}}} \\left(\\frac{x}{3}(e^{-3t}-1)-1\\right)^{-2} dx$$\n",
    "\n",
    "We will use u-substitution:\n",
    "\n",
    "$$u = \\frac{x}{3}(e^{-3t}-1)-1, du = \\frac{e^{-3t}-1}{3}$$\n",
    "\n",
    "$$\\Rightarrow \\frac{3}{e^{-3t}-1}\\int u^{-2} du$$\n",
    "$$ = -\\frac{3}{\\left(e^{-3t}-1\\right)u}$$\n",
    "\n",
    "Now, we will integrate with bounds:\n",
    "\n",
    "$$ = -\\frac{3}{\\left(e^{-3t}-1\\right)\\left(\\frac{x}{3}(e^{-3t}-1)-1\\right)}\\Biggr|_\\frac{3}{2+e^{-3t}}^\\frac{6}{1+2e^{-3t}}$$\n",
    "\n",
    "The process of simplifying is omitted (try it out yourself!), but in the end, we arrive at:\n",
    "\n",
    "$$\\frac{2e^{-3t}+1}{e^{-3t}-1} - \\frac{e^{-3t}+2}{e^{-3t}-1} = \\frac{e^{-3t}-1}{e^{-3t}-1} = \\boxed{1}$$"
   ]
  },
  {
   "cell_type": "markdown",
   "id": "452208ec-c962-4b6f-a5c1-8692c2cebb7f",
   "metadata": {},
   "source": [
    "The Reynolds transport theorem gives us the following formula:\n",
    "\n",
    "$$\\frac{d}{dt}\\left(\\int_{a(t)}^{b(t)}\\rho(x,t)\\:dx\\right) = \\int_{a(t)}^{b(t)}\\left[\\frac{\\partial}{\\partial t}\\rho(x,t)+\\frac{\\partial}{\\partial x}\\left(\\rho(x,t)\\mathcal{v}(x,t)\\right)\\right] dx$$\n",
    "\n",
    "We just solved for the integral on the left hand side and the integrand on the right hand side was given in the problem:\n",
    "\n",
    "$$ \\text{LHS} = \\frac{d}{dt}\\:1 = 0$$\n",
    "$$ \\text{RHS} = \\int_{a(t)}^{b(t)}0\\:dx = 0$$\n",
    "\n",
    "So, the results are consistent with the transport theorem."
   ]
  },
  {
   "cell_type": "code",
   "execution_count": null,
   "id": "d60f96e7-6766-447b-a0dd-51627c6e56a4",
   "metadata": {},
   "outputs": [],
   "source": []
  }
 ],
 "metadata": {
  "kernelspec": {
   "display_name": "Python 3 (ipykernel)",
   "language": "python",
   "name": "python3"
  },
  "language_info": {
   "codemirror_mode": {
    "name": "ipython",
    "version": 3
   },
   "file_extension": ".py",
   "mimetype": "text/x-python",
   "name": "python",
   "nbconvert_exporter": "python",
   "pygments_lexer": "ipython3",
   "version": "3.8.16"
  }
 },
 "nbformat": 4,
 "nbformat_minor": 5
}

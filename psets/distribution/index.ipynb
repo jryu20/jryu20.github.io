{
 "cells": [
  {
   "cell_type": "markdown",
   "id": "9b5211c5-b8eb-4eaf-9902-cd078e257600",
   "metadata": {},
   "source": [
    "---\n",
    "title: \"Distribution Magic\"\n",
    "format:\n",
    "  html:\n",
    "    toc: true\n",
    "author: \"Jun Ryu\"\n",
    "date: \"2023-02-15\"\n",
    "categories: [statistics]\n",
    "---"
   ]
  },
  {
   "cell_type": "markdown",
   "id": "cd3c412e-2315-4179-99a6-b92180704e23",
   "metadata": {},
   "source": [
    "Suppose one has a collection of numbers $x_1,\\ldots, x_n$, which are taken to be independent samples from the $N(\\mu, \\sigma_0^2)$ distribution. \n",
    "\n",
    "> Here, $\\sigma_0^2$ is known, but $\\mu$ is unknown. Using the prior distribution $M ∼ N(\\mu_0, \\rho_0^2)$ for $\\mu$, derive the formula for the posterior distribution."
   ]
  },
  {
   "cell_type": "markdown",
   "id": "f5e76728-22d4-45db-b26a-53e357e6baaf",
   "metadata": {},
   "source": [
    "To solve this problem, we will utilize the concept of proportionality ($\\propto$). More specifically, we have the following equation regarding the posterior distribution: \n",
    "\n",
    "$$f_{\\Theta|X}(\\theta|x) \\propto f_{X|\\Theta}(x|\\theta)f_{\\Theta}(\\theta)$$\n",
    "$$\\text{Posterior density} \\propto \\text{Likelihood} \\times \\text{Prior density}$$\n",
    "\n",
    "We will first find the *likelihood*. \n",
    "\n",
    "---"
   ]
  },
  {
   "cell_type": "markdown",
   "id": "0f20d2d3-25c0-4731-8cd4-90c771b20b00",
   "metadata": {},
   "source": [
    "### 1. Likelihood\n",
    "<br>\n",
    "\n",
    "We have that $f(x_i|\\mu, \\sigma_0^2) \\propto$"
   ]
  },
  {
   "cell_type": "code",
   "execution_count": null,
   "id": "e5c0eeca-a5aa-40e5-b6a2-19e4499a89f6",
   "metadata": {},
   "outputs": [],
   "source": []
  }
 ],
 "metadata": {
  "kernelspec": {
   "display_name": "Python [conda env:PIC16B] *",
   "language": "python",
   "name": "conda-env-PIC16B-py"
  },
  "language_info": {
   "codemirror_mode": {
    "name": "ipython",
    "version": 3
   },
   "file_extension": ".py",
   "mimetype": "text/x-python",
   "name": "python",
   "nbconvert_exporter": "python",
   "pygments_lexer": "ipython3",
   "version": "3.8.16"
  }
 },
 "nbformat": 4,
 "nbformat_minor": 5
}

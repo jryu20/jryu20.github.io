{
 "cells": [
  {
   "cell_type": "markdown",
   "id": "4ec85471-eca8-4507-85ca-06b00834c731",
   "metadata": {},
   "source": [
    "---\n",
    "title: \"Recapping DataFest\"\n",
    "author: \"Jun Ryu\"\n",
    "date: \"2024-07-08\"\n",
    "---"
   ]
  },
  {
   "cell_type": "markdown",
   "id": "993877a4-bbed-484c-bdb9-675b73a5cd0e",
   "metadata": {},
   "source": [
    "Working on this post..."
   ]
  },
  {
   "cell_type": "code",
   "execution_count": null,
   "id": "6b3d88ba-2d7f-4b04-8d68-caa64dd44652",
   "metadata": {},
   "outputs": [],
   "source": []
  }
 ],
 "metadata": {
  "kernelspec": {
   "display_name": "Python 3 (ipykernel)",
   "language": "python",
   "name": "python3"
  },
  "language_info": {
   "codemirror_mode": {
    "name": "ipython",
    "version": 3
   },
   "file_extension": ".py",
   "mimetype": "text/x-python",
   "name": "python",
   "nbconvert_exporter": "python",
   "pygments_lexer": "ipython3",
   "version": "3.9.13"
  }
 },
 "nbformat": 4,
 "nbformat_minor": 5
}

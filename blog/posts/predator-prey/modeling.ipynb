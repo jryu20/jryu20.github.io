{
 "cells": [
  {
   "cell_type": "markdown",
   "id": "b554daed-8c02-4dd7-b65c-0648ed0558e0",
   "metadata": {},
   "source": [
    "---\n",
    "title: \"Predator-Prey Dynamics\"\n",
    "image: model.png\n",
    "author: \"Jun, Kevin, Yuki\"\n",
    "date: \"2022-11-28\"\n",
    "categories: [math, modeling, project]\n",
    "---"
   ]
  },
  {
   "cell_type": "markdown",
   "id": "488d6a82-9461-403c-852c-1f7ea1fd2ac4",
   "metadata": {},
   "source": [
    "> In this project, we explore a predator-prey relationship between ducks (predator), fish (prey), and a common food source (namely, an aquatic plant). In doing so, we split the model into 2 different phases: the first phase is with a constant population of the shared food source and the second is without.\n",
    "\n",
    "Attached below are the paper and the presentation that summarize our findings."
   ]
  },
  {
   "cell_type": "raw",
   "id": "a8c9fa61-4d4d-48f7-a3c9-b27763b3e6f8",
   "metadata": {},
   "source": [
    "<object data=\"Predator-Prey_Model.pdf\" type=\"application/pdf\" width=\"800px\" height=\"800px\">\n",
    "    <embed src=\"Predator-Prey_Model.pdf\">\n",
    "</object>"
   ]
  },
  {
   "cell_type": "code",
   "execution_count": null,
   "id": "5a1a75e0-d193-4e98-83c0-6185b4dc4a23",
   "metadata": {},
   "outputs": [],
   "source": []
  }
 ],
 "metadata": {
  "kernelspec": {
   "display_name": "Python [conda env:PIC16B] *",
   "language": "python",
   "name": "conda-env-PIC16B-py"
  },
  "language_info": {
   "codemirror_mode": {
    "name": "ipython",
    "version": 3
   },
   "file_extension": ".py",
   "mimetype": "text/x-python",
   "name": "python",
   "nbconvert_exporter": "python",
   "pygments_lexer": "ipython3",
   "version": "3.8.16"
  }
 },
 "nbformat": 4,
 "nbformat_minor": 5
}

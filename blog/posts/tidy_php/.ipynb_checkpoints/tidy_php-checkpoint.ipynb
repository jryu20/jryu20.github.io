{
 "cells": [
  {
   "cell_type": "markdown",
   "id": "0764dc30-f001-43d2-b9b3-604b1c976695",
   "metadata": {},
   "source": [
    "---\n",
    "title: \"PHP Demo\"\n",
    "image: \"https://upload.wikimedia.org/wikipedia/commons/0/07/Font_Awesome_5_brands_php.svg\"\n",
    "author: \"Jun Ryu\"\n",
    "date: \"2022-11-18\"\n",
    "categories: [php, html]\n",
    "---"
   ]
  }
 ],
 "metadata": {
  "kernelspec": {
   "display_name": "Python [conda env:PIC16B] *",
   "language": "python",
   "name": "conda-env-PIC16B-py"
  },
  "language_info": {
   "codemirror_mode": {
    "name": "ipython",
    "version": 3
   },
   "file_extension": ".py",
   "mimetype": "text/x-python",
   "name": "python",
   "nbconvert_exporter": "python",
   "pygments_lexer": "ipython3",
   "version": "3.8.16"
  }
 },
 "nbformat": 4,
 "nbformat_minor": 5
}

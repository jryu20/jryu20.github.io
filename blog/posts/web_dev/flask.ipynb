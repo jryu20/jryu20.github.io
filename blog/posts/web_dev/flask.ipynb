{
 "cells": [
  {
   "cell_type": "markdown",
   "id": "d6a7643e-b700-48a7-9820-09cd1229f956",
   "metadata": {},
   "source": [
    "---\n",
    "title: \"Web Application with Flask\"\n",
    "format:\n",
    "  html:\n",
    "    toc: true\n",
    "author: \"Jun Ryu\"\n",
    "date: \"2023-02-03\"\n",
    "categories: [application, Flask]\n",
    "---"
   ]
  },
  {
   "cell_type": "markdown",
   "id": "2495eace-0773-4fa7-864a-b50e4ab2e0da",
   "metadata": {},
   "source": []
  }
 ],
 "metadata": {
  "kernelspec": {
   "display_name": "Python [conda env:PIC16B] *",
   "language": "python",
   "name": "conda-env-PIC16B-py"
  },
  "language_info": {
   "codemirror_mode": {
    "name": "ipython",
    "version": 3
   },
   "file_extension": ".py",
   "mimetype": "text/x-python",
   "name": "python",
   "nbconvert_exporter": "python",
   "pygments_lexer": "ipython3",
   "version": "3.8.16"
  }
 },
 "nbformat": 4,
 "nbformat_minor": 5
}

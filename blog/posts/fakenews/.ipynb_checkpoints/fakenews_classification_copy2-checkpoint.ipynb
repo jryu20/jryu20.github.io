{
 "cells": [
  {
   "cell_type": "markdown",
   "metadata": {
    "id": "mI2nq1hH4jDb"
   },
   "source": [
    "---\n",
    "title: \"Fake News Classification\"\n",
    "image: fakenews.jpeg\n",
    "format:\n",
    "  html:\n",
    "    toc: true\n",
    "author: \"Jun Ryu\"\n",
    "date: \"2023-03-15\"\n",
    "categories: [python, ML, tensorflow]\n",
    "---"
   ]
  },
  {
   "cell_type": "markdown",
   "metadata": {
    "id": "lttz6Yqo4jDd"
   },
   "source": [
    "> Rampant misinformation — often called “fake news” — is one of the defining features of contemporary democratic life. \n",
    "\n",
    "In this post, we will develop and assess a fake news classifier using Tensorflow."
   ]
  },
  {
   "cell_type": "markdown",
   "metadata": {
    "id": "a4kaCq_dgwCc"
   },
   "source": [
    "# 1. Acquiring Training Data\n",
    "\n",
    "First, we import all the necessary packages and read in the data. We will also import stopwords (a word that is usually considered to be uninformative, such as “the,” “and,” or “but\"), which we will use later.\n",
    "\n",
    "Each row of the data corresponds to an article. The `title` column gives the title of the article, while the `text` column gives the full article text. The final column, called `fake`, is `0` if the article is true and `1` if the article contains fake news, as determined by the authors of the paper above."
   ]
  },
  {
   "cell_type": "code",
   "execution_count": 1,
   "metadata": {
    "colab": {
     "base_uri": "https://localhost:8080/",
     "height": 459
    },
    "id": "SNcFppUfFjWx",
    "outputId": "5fb68ac9-9c6b-4f98-a1bf-0bdb52ce5668"
   },
   "outputs": [
    {
     "name": "stderr",
     "output_type": "stream",
     "text": [
      "[nltk_data] Downloading package stopwords to /root/nltk_data...\n",
      "[nltk_data]   Package stopwords is already up-to-date!\n"
     ]
    },
    {
     "data": {
      "text/html": [
       "\n",
       "\n",
       "  <div id=\"df-546dba59-47e8-40b2-beb7-6bc5f3b6e5b7\">\n",
       "    <div class=\"colab-df-container\">\n",
       "      <div>\n",
       "<style scoped>\n",
       "    .dataframe tbody tr th:only-of-type {\n",
       "        vertical-align: middle;\n",
       "    }\n",
       "\n",
       "    .dataframe tbody tr th {\n",
       "        vertical-align: top;\n",
       "    }\n",
       "\n",
       "    .dataframe thead th {\n",
       "        text-align: right;\n",
       "    }\n",
       "</style>\n",
       "<table border=\"1\" class=\"dataframe\">\n",
       "  <thead>\n",
       "    <tr style=\"text-align: right;\">\n",
       "      <th></th>\n",
       "      <th>Unnamed: 0</th>\n",
       "      <th>title</th>\n",
       "      <th>text</th>\n",
       "      <th>fake</th>\n",
       "    </tr>\n",
       "  </thead>\n",
       "  <tbody>\n",
       "    <tr>\n",
       "      <th>0</th>\n",
       "      <td>17366</td>\n",
       "      <td>Merkel: Strong result for Austria's FPO 'big c...</td>\n",
       "      <td>German Chancellor Angela Merkel said on Monday...</td>\n",
       "      <td>0</td>\n",
       "    </tr>\n",
       "    <tr>\n",
       "      <th>1</th>\n",
       "      <td>5634</td>\n",
       "      <td>Trump says Pence will lead voter fraud panel</td>\n",
       "      <td>WEST PALM BEACH, Fla.President Donald Trump sa...</td>\n",
       "      <td>0</td>\n",
       "    </tr>\n",
       "    <tr>\n",
       "      <th>2</th>\n",
       "      <td>17487</td>\n",
       "      <td>JUST IN: SUSPECTED LEAKER and “Close Confidant...</td>\n",
       "      <td>On December 5, 2017, Circa s Sara Carter warne...</td>\n",
       "      <td>1</td>\n",
       "    </tr>\n",
       "    <tr>\n",
       "      <th>3</th>\n",
       "      <td>12217</td>\n",
       "      <td>Thyssenkrupp has offered help to Argentina ove...</td>\n",
       "      <td>Germany s Thyssenkrupp, has offered assistance...</td>\n",
       "      <td>0</td>\n",
       "    </tr>\n",
       "    <tr>\n",
       "      <th>4</th>\n",
       "      <td>5535</td>\n",
       "      <td>Trump say appeals court decision on travel ban...</td>\n",
       "      <td>President Donald Trump on Thursday called the ...</td>\n",
       "      <td>0</td>\n",
       "    </tr>\n",
       "    <tr>\n",
       "      <th>...</th>\n",
       "      <td>...</td>\n",
       "      <td>...</td>\n",
       "      <td>...</td>\n",
       "      <td>...</td>\n",
       "    </tr>\n",
       "    <tr>\n",
       "      <th>22444</th>\n",
       "      <td>10709</td>\n",
       "      <td>ALARMING: NSA Refuses to Release Clinton-Lynch...</td>\n",
       "      <td>If Clinton and Lynch just talked about grandki...</td>\n",
       "      <td>1</td>\n",
       "    </tr>\n",
       "    <tr>\n",
       "      <th>22445</th>\n",
       "      <td>8731</td>\n",
       "      <td>Can Pence's vow not to sling mud survive a Tru...</td>\n",
       "      <td>() - In 1990, during a close and bitter congre...</td>\n",
       "      <td>0</td>\n",
       "    </tr>\n",
       "    <tr>\n",
       "      <th>22446</th>\n",
       "      <td>4733</td>\n",
       "      <td>Watch Trump Campaign Try To Spin Their Way Ou...</td>\n",
       "      <td>A new ad by the Hillary Clinton SuperPac Prior...</td>\n",
       "      <td>1</td>\n",
       "    </tr>\n",
       "    <tr>\n",
       "      <th>22447</th>\n",
       "      <td>3993</td>\n",
       "      <td>Trump celebrates first 100 days as president, ...</td>\n",
       "      <td>HARRISBURG, Pa.U.S. President Donald Trump hit...</td>\n",
       "      <td>0</td>\n",
       "    </tr>\n",
       "    <tr>\n",
       "      <th>22448</th>\n",
       "      <td>12896</td>\n",
       "      <td>TRUMP SUPPORTERS REACT TO DEBATE: “Clinton New...</td>\n",
       "      <td>MELBOURNE, FL is a town with a population of 7...</td>\n",
       "      <td>1</td>\n",
       "    </tr>\n",
       "  </tbody>\n",
       "</table>\n",
       "<p>22449 rows × 4 columns</p>\n",
       "</div>\n",
       "      <button class=\"colab-df-convert\" onclick=\"convertToInteractive('df-546dba59-47e8-40b2-beb7-6bc5f3b6e5b7')\"\n",
       "              title=\"Convert this dataframe to an interactive table.\"\n",
       "              style=\"display:none;\">\n",
       "\n",
       "  <svg xmlns=\"http://www.w3.org/2000/svg\" height=\"24px\"viewBox=\"0 0 24 24\"\n",
       "       width=\"24px\">\n",
       "    <path d=\"M0 0h24v24H0V0z\" fill=\"none\"/>\n",
       "    <path d=\"M18.56 5.44l.94 2.06.94-2.06 2.06-.94-2.06-.94-.94-2.06-.94 2.06-2.06.94zm-11 1L8.5 8.5l.94-2.06 2.06-.94-2.06-.94L8.5 2.5l-.94 2.06-2.06.94zm10 10l.94 2.06.94-2.06 2.06-.94-2.06-.94-.94-2.06-.94 2.06-2.06.94z\"/><path d=\"M17.41 7.96l-1.37-1.37c-.4-.4-.92-.59-1.43-.59-.52 0-1.04.2-1.43.59L10.3 9.45l-7.72 7.72c-.78.78-.78 2.05 0 2.83L4 21.41c.39.39.9.59 1.41.59.51 0 1.02-.2 1.41-.59l7.78-7.78 2.81-2.81c.8-.78.8-2.07 0-2.86zM5.41 20L4 18.59l7.72-7.72 1.47 1.35L5.41 20z\"/>\n",
       "  </svg>\n",
       "      </button>\n",
       "\n",
       "\n",
       "\n",
       "    <div id=\"df-9aad9c8a-2806-482d-9713-97dd0772432e\">\n",
       "      <button class=\"colab-df-quickchart\" onclick=\"quickchart('df-9aad9c8a-2806-482d-9713-97dd0772432e')\"\n",
       "              title=\"Suggest charts.\"\n",
       "              style=\"display:none;\">\n",
       "\n",
       "<svg xmlns=\"http://www.w3.org/2000/svg\" height=\"24px\"viewBox=\"0 0 24 24\"\n",
       "     width=\"24px\">\n",
       "    <g>\n",
       "        <path d=\"M19 3H5c-1.1 0-2 .9-2 2v14c0 1.1.9 2 2 2h14c1.1 0 2-.9 2-2V5c0-1.1-.9-2-2-2zM9 17H7v-7h2v7zm4 0h-2V7h2v10zm4 0h-2v-4h2v4z\"/>\n",
       "    </g>\n",
       "</svg>\n",
       "      </button>\n",
       "    </div>\n",
       "\n",
       "<style>\n",
       "  .colab-df-quickchart {\n",
       "    background-color: #E8F0FE;\n",
       "    border: none;\n",
       "    border-radius: 50%;\n",
       "    cursor: pointer;\n",
       "    display: none;\n",
       "    fill: #1967D2;\n",
       "    height: 32px;\n",
       "    padding: 0 0 0 0;\n",
       "    width: 32px;\n",
       "  }\n",
       "\n",
       "  .colab-df-quickchart:hover {\n",
       "    background-color: #E2EBFA;\n",
       "    box-shadow: 0px 1px 2px rgba(60, 64, 67, 0.3), 0px 1px 3px 1px rgba(60, 64, 67, 0.15);\n",
       "    fill: #174EA6;\n",
       "  }\n",
       "\n",
       "  [theme=dark] .colab-df-quickchart {\n",
       "    background-color: #3B4455;\n",
       "    fill: #D2E3FC;\n",
       "  }\n",
       "\n",
       "  [theme=dark] .colab-df-quickchart:hover {\n",
       "    background-color: #434B5C;\n",
       "    box-shadow: 0px 1px 3px 1px rgba(0, 0, 0, 0.15);\n",
       "    filter: drop-shadow(0px 1px 2px rgba(0, 0, 0, 0.3));\n",
       "    fill: #FFFFFF;\n",
       "  }\n",
       "</style>\n",
       "\n",
       "    <script>\n",
       "      async function quickchart(key) {\n",
       "        const containerElement = document.querySelector('#' + key);\n",
       "        const charts = await google.colab.kernel.invokeFunction(\n",
       "            'suggestCharts', [key], {});\n",
       "      }\n",
       "    </script>\n",
       "\n",
       "      <script>\n",
       "\n",
       "function displayQuickchartButton(domScope) {\n",
       "  let quickchartButtonEl =\n",
       "    domScope.querySelector('#df-9aad9c8a-2806-482d-9713-97dd0772432e button.colab-df-quickchart');\n",
       "  quickchartButtonEl.style.display =\n",
       "    google.colab.kernel.accessAllowed ? 'block' : 'none';\n",
       "}\n",
       "\n",
       "        displayQuickchartButton(document);\n",
       "      </script>\n",
       "      <style>\n",
       "    .colab-df-container {\n",
       "      display:flex;\n",
       "      flex-wrap:wrap;\n",
       "      gap: 12px;\n",
       "    }\n",
       "\n",
       "    .colab-df-convert {\n",
       "      background-color: #E8F0FE;\n",
       "      border: none;\n",
       "      border-radius: 50%;\n",
       "      cursor: pointer;\n",
       "      display: none;\n",
       "      fill: #1967D2;\n",
       "      height: 32px;\n",
       "      padding: 0 0 0 0;\n",
       "      width: 32px;\n",
       "    }\n",
       "\n",
       "    .colab-df-convert:hover {\n",
       "      background-color: #E2EBFA;\n",
       "      box-shadow: 0px 1px 2px rgba(60, 64, 67, 0.3), 0px 1px 3px 1px rgba(60, 64, 67, 0.15);\n",
       "      fill: #174EA6;\n",
       "    }\n",
       "\n",
       "    [theme=dark] .colab-df-convert {\n",
       "      background-color: #3B4455;\n",
       "      fill: #D2E3FC;\n",
       "    }\n",
       "\n",
       "    [theme=dark] .colab-df-convert:hover {\n",
       "      background-color: #434B5C;\n",
       "      box-shadow: 0px 1px 3px 1px rgba(0, 0, 0, 0.15);\n",
       "      filter: drop-shadow(0px 1px 2px rgba(0, 0, 0, 0.3));\n",
       "      fill: #FFFFFF;\n",
       "    }\n",
       "  </style>\n",
       "\n",
       "      <script>\n",
       "        const buttonEl =\n",
       "          document.querySelector('#df-546dba59-47e8-40b2-beb7-6bc5f3b6e5b7 button.colab-df-convert');\n",
       "        buttonEl.style.display =\n",
       "          google.colab.kernel.accessAllowed ? 'block' : 'none';\n",
       "\n",
       "        async function convertToInteractive(key) {\n",
       "          const element = document.querySelector('#df-546dba59-47e8-40b2-beb7-6bc5f3b6e5b7');\n",
       "          const dataTable =\n",
       "            await google.colab.kernel.invokeFunction('convertToInteractive',\n",
       "                                                     [key], {});\n",
       "          if (!dataTable) return;\n",
       "\n",
       "          const docLinkHtml = 'Like what you see? Visit the ' +\n",
       "            '<a target=\"_blank\" href=https://colab.research.google.com/notebooks/data_table.ipynb>data table notebook</a>'\n",
       "            + ' to learn more about interactive tables.';\n",
       "          element.innerHTML = '';\n",
       "          dataTable['output_type'] = 'display_data';\n",
       "          await google.colab.output.renderOutput(dataTable, element);\n",
       "          const docLink = document.createElement('div');\n",
       "          docLink.innerHTML = docLinkHtml;\n",
       "          element.appendChild(docLink);\n",
       "        }\n",
       "      </script>\n",
       "    </div>\n",
       "  </div>\n"
      ],
      "text/plain": [
       "       Unnamed: 0                                              title  \\\n",
       "0           17366  Merkel: Strong result for Austria's FPO 'big c...   \n",
       "1            5634       Trump says Pence will lead voter fraud panel   \n",
       "2           17487  JUST IN: SUSPECTED LEAKER and “Close Confidant...   \n",
       "3           12217  Thyssenkrupp has offered help to Argentina ove...   \n",
       "4            5535  Trump say appeals court decision on travel ban...   \n",
       "...           ...                                                ...   \n",
       "22444       10709  ALARMING: NSA Refuses to Release Clinton-Lynch...   \n",
       "22445        8731  Can Pence's vow not to sling mud survive a Tru...   \n",
       "22446        4733   Watch Trump Campaign Try To Spin Their Way Ou...   \n",
       "22447        3993  Trump celebrates first 100 days as president, ...   \n",
       "22448       12896  TRUMP SUPPORTERS REACT TO DEBATE: “Clinton New...   \n",
       "\n",
       "                                                    text  fake  \n",
       "0      German Chancellor Angela Merkel said on Monday...     0  \n",
       "1      WEST PALM BEACH, Fla.President Donald Trump sa...     0  \n",
       "2      On December 5, 2017, Circa s Sara Carter warne...     1  \n",
       "3      Germany s Thyssenkrupp, has offered assistance...     0  \n",
       "4      President Donald Trump on Thursday called the ...     0  \n",
       "...                                                  ...   ...  \n",
       "22444  If Clinton and Lynch just talked about grandki...     1  \n",
       "22445  () - In 1990, during a close and bitter congre...     0  \n",
       "22446  A new ad by the Hillary Clinton SuperPac Prior...     1  \n",
       "22447  HARRISBURG, Pa.U.S. President Donald Trump hit...     0  \n",
       "22448  MELBOURNE, FL is a town with a population of 7...     1  \n",
       "\n",
       "[22449 rows x 4 columns]"
      ]
     },
     "execution_count": 1,
     "metadata": {},
     "output_type": "execute_result"
    }
   ],
   "source": [
    "import numpy as np\n",
    "import pandas as pd\n",
    "import tensorflow as tf\n",
    "import re\n",
    "import string\n",
    "from tensorflow.keras import layers\n",
    "from tensorflow.keras import losses\n",
    "from tensorflow import keras\n",
    "from sklearn.model_selection import train_test_split\n",
    "from sklearn.preprocessing import LabelEncoder\n",
    "\n",
    "# for embedding visualization\n",
    "import plotly.express as px\n",
    "import plotly.io as pio\n",
    "pio.templates.default = \"plotly_white\"\n",
    "\n",
    "train_url = \"https://github.com/PhilChodrow/PIC16b/blob/master/datasets/fake_news_train.csv?raw=true\"\n",
    "train_df = pd.read_csv(train_url)\n",
    "\n",
    "import nltk\n",
    "nltk.download('stopwords')\n",
    "from nltk.corpus import stopwords\n",
    "stop = stopwords.words('english')\n",
    "train_df"
   ]
  },
  {
   "cell_type": "markdown",
   "metadata": {
    "id": "VO0HP3hRg4I2"
   },
   "source": [
    "# 2. Making a Dataset\n",
    "\n",
    "In this part, we will write a function called `make_dataset()`, which accomplishes two things:\n",
    "\n",
    "* Remove stopwords from `title` and `text` columns.\n",
    "* Construct and return a `tf.data.Dataset` with two inputs and one output. The input should be of the form `(title, text)`, and the output should consist only of the `fake` column.\n",
    "\n",
    "Then, we will call this function on the training dataframe, then split 20% of the output to use for validation."
   ]
  },
  {
   "cell_type": "code",
   "execution_count": 2,
   "metadata": {
    "id": "E0vLInM_Fzu5"
   },
   "outputs": [],
   "source": [
    "def make_dataset(df):\n",
    "  # remove stopwords\n",
    "  df['title'] = df['title'].apply(lambda x: ' '.join([word for word in x.split() if word not in (stop)]))\n",
    "  df['text'] = df['text'].apply(lambda x: ' '.join([word for word in x.split() if word not in (stop)]))\n",
    "\n",
    "  # create Dataset\n",
    "  Dataset = tf.data.Dataset.from_tensor_slices(({\n",
    "      \"title\" : df[[\"title\"]],\n",
    "      \"text\" : df[[\"text\"]]\n",
    "  }, {\n",
    "      \"fake\" : df[\"fake\"]\n",
    "  }))\n",
    "\n",
    "  # batch our Dataset to increase training speed\n",
    "  Dataset = Dataset.batch(100)\n",
    "  return Dataset\n",
    "\n",
    "data = make_dataset(train_df)\n",
    "data = data.shuffle(buffer_size = len(data))\n",
    "\n",
    "train_size = int(0.8*len(data)) # split Dataset\n",
    "val_size   = int(0.2*len(data))\n",
    "\n",
    "train = data.take(train_size)\n",
    "val = data.skip(train_size).take(val_size)"
   ]
  },
  {
   "cell_type": "markdown",
   "metadata": {
    "id": "0IQoAKlLCIqM"
   },
   "source": [
    "Now, we will calculate the base rate for the model."
   ]
  },
  {
   "cell_type": "code",
   "execution_count": 3,
   "metadata": {
    "colab": {
     "base_uri": "https://localhost:8080/"
    },
    "id": "5hEql_l4C12Z",
    "outputId": "034eb037-3da4-4c85-fe6f-e8840787415b"
   },
   "outputs": [
    {
     "data": {
      "text/plain": [
       "1    11740\n",
       "0    10709\n",
       "Name: fake, dtype: int64"
      ]
     },
     "execution_count": 3,
     "metadata": {},
     "output_type": "execute_result"
    }
   ],
   "source": [
    "train_df[\"fake\"].value_counts()"
   ]
  },
  {
   "cell_type": "markdown",
   "metadata": {
    "id": "NFrLbaE6Dv0t"
   },
   "source": [
    "Our base model will always guess the most frequent label (or `1`, in this case). This will result in the base rate of $\\frac{11740}{11740+10709}$ or approximately $52.3\\%$.\n",
    "\n",
    "To improve this rate, we will prepare a text vectorization layer that we can implement in our models."
   ]
  },
  {
   "cell_type": "code",
   "execution_count": 4,
   "metadata": {
    "id": "97ou88mmFzxS"
   },
   "outputs": [],
   "source": [
    "size_vocabulary = 2000\n",
    "\n",
    "def standardization(input_data):\n",
    "    lowercase = tf.strings.lower(input_data)\n",
    "    no_punctuation = tf.strings.regex_replace(lowercase,\n",
    "                                  '[%s]' % re.escape(string.punctuation),'')\n",
    "    return no_punctuation\n",
    "\n",
    "title_vectorize_layer = layers.TextVectorization(\n",
    "    standardize=standardization,\n",
    "    max_tokens=size_vocabulary, # only consider this many words\n",
    "    output_mode='int',\n",
    "    output_sequence_length=500)\n",
    "\n",
    "title_vectorize_layer.adapt(train.map(lambda x, y: x[\"title\"]))\n",
    "\n",
    "text_vectorize_layer = layers.TextVectorization(\n",
    "    standardize=standardization,\n",
    "    max_tokens=size_vocabulary,\n",
    "    output_mode='int',\n",
    "    output_sequence_length=500)\n",
    "\n",
    "text_vectorize_layer.adapt(train.map(lambda x, y: x[\"text\"]))"
   ]
  },
  {
   "cell_type": "markdown",
   "metadata": {
    "id": "P4MdO51xEv5a"
   },
   "source": [
    "# 3. Create Models\n",
    "\n",
    "We aim to create three models to answer the following question:\n",
    "\n",
    "> When detecting fake news, is it most effective to focus on only the title of the article, the full text of the article, or both?\n",
    "\n",
    "All three models will be utilizing the Functional API.\n",
    "\n",
    "First, we will define our inputs `title_input` and `text_input` below."
   ]
  },
  {
   "cell_type": "code",
   "execution_count": 5,
   "metadata": {
    "id": "y9BUQCKcFzzr"
   },
   "outputs": [],
   "source": [
    "title_input = keras.Input(\n",
    "    shape=(1,),\n",
    "    name = \"title\", # same name as the dictionary key in the dataset\n",
    "    dtype = \"string\"\n",
    ")\n",
    "\n",
    "text_input = keras.Input(\n",
    "    shape=(1,),\n",
    "    name = \"text\",\n",
    "    dtype = \"string\"\n",
    ")"
   ]
  },
  {
   "cell_type": "markdown",
   "metadata": {
    "id": "iPpKZhzwhBWz"
   },
   "source": [
    "## First Model\n",
    "\n",
    "The first model will only make use of the article's title."
   ]
  },
  {
   "cell_type": "code",
   "execution_count": 6,
   "metadata": {
    "id": "SV4F8isCFz1_"
   },
   "outputs": [],
   "source": [
    "title_features = title_vectorize_layer(title_input) # apply this TextVectorization layer to title_input\n",
    "\n",
    "# use embeddings\n",
    "title_features = layers.Embedding(size_vocabulary, output_dim = 3, name=\"embedding\")(title_features)\n",
    "title_features = layers.Dropout(0.2)(title_features)\n",
    "title_features = layers.GlobalAveragePooling1D()(title_features)\n",
    "title_features = layers.Dropout(0.2)(title_features)\n",
    "title_features = layers.Dense(2, activation='relu', name=\"fake\")(title_features)"
   ]
  },
  {
   "cell_type": "code",
   "execution_count": 7,
   "metadata": {
    "colab": {
     "base_uri": "https://localhost:8080/"
    },
    "id": "REv0Ks_lFz4E",
    "outputId": "b6d7e57d-2fd2-4c0c-a738-a958d3481a61"
   },
   "outputs": [
    {
     "name": "stdout",
     "output_type": "stream",
     "text": [
      "Model: \"model\"\n",
      "_________________________________________________________________\n",
      " Layer (type)                Output Shape              Param #   \n",
      "=================================================================\n",
      " title (InputLayer)          [(None, 1)]               0         \n",
      "                                                                 \n",
      " text_vectorization (TextVec  (None, 500)              0         \n",
      " torization)                                                     \n",
      "                                                                 \n",
      " embedding (Embedding)       (None, 500, 3)            6000      \n",
      "                                                                 \n",
      " dropout (Dropout)           (None, 500, 3)            0         \n",
      "                                                                 \n",
      " global_average_pooling1d (G  (None, 3)                0         \n",
      " lobalAveragePooling1D)                                          \n",
      "                                                                 \n",
      " dropout_1 (Dropout)         (None, 3)                 0         \n",
      "                                                                 \n",
      " fake (Dense)                (None, 2)                 8         \n",
      "                                                                 \n",
      "=================================================================\n",
      "Total params: 6,008\n",
      "Trainable params: 6,008\n",
      "Non-trainable params: 0\n",
      "_________________________________________________________________\n"
     ]
    }
   ],
   "source": [
    "# only using title\n",
    "model1 = keras.Model(\n",
    "    inputs = [title_input],\n",
    "    outputs = title_features\n",
    ")\n",
    "\n",
    "model1.summary()"
   ]
  },
  {
   "cell_type": "code",
   "execution_count": 8,
   "metadata": {
    "colab": {
     "base_uri": "https://localhost:8080/",
     "height": 661
    },
    "id": "1LaR1hNJFz6g",
    "outputId": "2c9a81a8-0823-459b-ecd3-7032f6117544"
   },
   "outputs": [
    {
     "data": {
      "image/png": "[encoded data removed]",
      "text/plain": [
       "<IPython.core.display.Image object>"
      ]
     },
     "execution_count": 8,
     "metadata": {},
     "output_type": "execute_result"
    }
   ],
   "source": [
    "from tensorflow.keras import utils\n",
    "utils.plot_model(model1)"
   ]
  },
  {
   "cell_type": "code",
   "execution_count": 9,
   "metadata": {
    "id": "20PXDBt4jOWT"
   },
   "outputs": [],
   "source": [
    "model1.compile(optimizer=\"adam\",\n",
    "              loss = losses.SparseCategoricalCrossentropy(from_logits=True),\n",
    "              metrics=[\"accuracy\"])"
   ]
  },
  {
   "cell_type": "code",
   "execution_count": 10,
   "metadata": {
    "colab": {
     "base_uri": "https://localhost:8080/"
    },
    "id": "YRtOBda5jOZB",
    "outputId": "2e40ade8-8e17-4756-9296-560b6b57b7cf"
   },
   "outputs": [
    {
     "name": "stdout",
     "output_type": "stream",
     "text": [
      "Epoch 1/20\n"
     ]
    },
    {
     "name": "stderr",
     "output_type": "stream",
     "text": [
      "/usr/local/lib/python3.10/dist-packages/keras/engine/functional.py:639: UserWarning: Input dict contained keys ['text'] which did not match any model input. They will be ignored by the model.\n",
      "  inputs = self._flatten_to_reference_inputs(inputs)\n"
     ]
    },
    {
     "name": "stdout",
     "output_type": "stream",
     "text": [
      "180/180 [==============================] - 16s 80ms/step - loss: 0.6918 - accuracy: 0.5203 - val_loss: 0.6897 - val_accuracy: 0.5185\n",
      "Epoch 2/20\n",
      "180/180 [==============================] - 2s 10ms/step - loss: 0.6875 - accuracy: 0.5275 - val_loss: 0.6846 - val_accuracy: 0.5218\n",
      "Epoch 3/20\n",
      "180/180 [==============================] - 2s 13ms/step - loss: 0.6812 - accuracy: 0.5610 - val_loss: 0.6769 - val_accuracy: 0.5269\n",
      "Epoch 4/20\n",
      "180/180 [==============================] - 1s 7ms/step - loss: 0.6728 - accuracy: 0.6529 - val_loss: 0.6668 - val_accuracy: 0.6233\n",
      "Epoch 5/20\n",
      "180/180 [==============================] - 1s 6ms/step - loss: 0.6613 - accuracy: 0.7581 - val_loss: 0.6555 - val_accuracy: 0.8844\n",
      "Epoch 6/20\n",
      "180/180 [==============================] - 1s 6ms/step - loss: 0.6481 - accuracy: 0.8375 - val_loss: 0.6398 - val_accuracy: 0.9299\n",
      "Epoch 7/20\n",
      "180/180 [==============================] - 1s 6ms/step - loss: 0.6331 - accuracy: 0.8570 - val_loss: 0.6253 - val_accuracy: 0.9293\n",
      "Epoch 8/20\n",
      "180/180 [==============================] - 1s 6ms/step - loss: 0.6164 - accuracy: 0.8831 - val_loss: 0.6061 - val_accuracy: 0.9396\n",
      "Epoch 9/20\n",
      "180/180 [==============================] - 1s 6ms/step - loss: 0.5982 - accuracy: 0.8916 - val_loss: 0.5885 - val_accuracy: 0.9073\n",
      "Epoch 10/20\n",
      "180/180 [==============================] - 1s 6ms/step - loss: 0.5814 - accuracy: 0.8994 - val_loss: 0.5701 - val_accuracy: 0.9373\n",
      "Epoch 11/20\n",
      "180/180 [==============================] - 1s 5ms/step - loss: 0.5627 - accuracy: 0.9091 - val_loss: 0.5497 - val_accuracy: 0.9500\n",
      "Epoch 12/20\n",
      "180/180 [==============================] - 1s 7ms/step - loss: 0.5437 - accuracy: 0.9088 - val_loss: 0.5298 - val_accuracy: 0.9444\n",
      "Epoch 13/20\n",
      "180/180 [==============================] - 1s 6ms/step - loss: 0.5233 - accuracy: 0.9177 - val_loss: 0.5118 - val_accuracy: 0.9407\n",
      "Epoch 14/20\n",
      "180/180 [==============================] - 1s 6ms/step - loss: 0.5079 - accuracy: 0.9227 - val_loss: 0.4921 - val_accuracy: 0.9482\n",
      "Epoch 15/20\n",
      "180/180 [==============================] - 1s 6ms/step - loss: 0.4889 - accuracy: 0.9252 - val_loss: 0.4711 - val_accuracy: 0.9487\n",
      "Epoch 16/20\n",
      "180/180 [==============================] - 1s 5ms/step - loss: 0.4699 - accuracy: 0.9310 - val_loss: 0.4555 - val_accuracy: 0.9464\n",
      "Epoch 17/20\n",
      "180/180 [==============================] - 1s 6ms/step - loss: 0.4529 - accuracy: 0.9328 - val_loss: 0.4323 - val_accuracy: 0.9549\n",
      "Epoch 18/20\n",
      "180/180 [==============================] - 1s 6ms/step - loss: 0.4383 - accuracy: 0.9318 - val_loss: 0.4196 - val_accuracy: 0.9407\n",
      "Epoch 19/20\n",
      "180/180 [==============================] - 1s 6ms/step - loss: 0.4213 - accuracy: 0.9341 - val_loss: 0.4044 - val_accuracy: 0.9501\n",
      "Epoch 20/20\n",
      "180/180 [==============================] - 1s 6ms/step - loss: 0.4082 - accuracy: 0.9348 - val_loss: 0.3921 - val_accuracy: 0.9480\n"
     ]
    }
   ],
   "source": [
    "history = model1.fit(train,\n",
    "                    validation_data=val,\n",
    "                    epochs = 20,\n",
    "                    verbose = True)"
   ]
  },
  {
   "cell_type": "code",
   "execution_count": 11,
   "metadata": {
    "colab": {
     "base_uri": "https://localhost:8080/",
     "height": 467
    },
    "id": "PgrrTYqGjObq",
    "outputId": "b07efea6-1633-4f02-99e3-e9be498a69c3"
   },
   "outputs": [
    {
     "data": {
      "text/plain": [
       "<matplotlib.legend.Legend at 0x7cac7011de70>"
      ]
     },
     "execution_count": 11,
     "metadata": {},
     "output_type": "execute_result"
    },
    {
     "data": {
      "image/png": "[encoded data removed]",
      "text/plain": [
       "<Figure size 640x480 with 1 Axes>"
      ]
     },
     "metadata": {},
     "output_type": "display_data"
    }
   ],
   "source": [
    "from matplotlib import pyplot as plt\n",
    "plt.plot(history.history[\"accuracy\"], label = \"training\")\n",
    "plt.plot(history.history[\"val_accuracy\"], label = \"validation\")\n",
    "plt.gca().set(xlabel = \"epoch\", ylabel = \"accuracy\")\n",
    "plt.legend()"
   ]
  },
  {
   "cell_type": "markdown",
   "metadata": {
    "id": "W2b0xNLKGh-L"
   },
   "source": [
    "We observe that the validation accuracy stabilized between 93% and 95%."
   ]
  },
  {
   "cell_type": "markdown",
   "metadata": {
    "id": "HvV_2bdWhKrI"
   },
   "source": [
    "## Second Model\n",
    "\n",
    "The second model will only make use of the article's text."
   ]
  },
  {
   "cell_type": "code",
   "execution_count": 12,
   "metadata": {
    "id": "H8Fou0t6jOel"
   },
   "outputs": [],
   "source": [
    "text_features = text_vectorize_layer(text_input)\n",
    "text_features = layers.Embedding(size_vocabulary, output_dim = 3, name=\"embedding\")(text_features)\n",
    "text_features = layers.Dropout(0.2)(text_features)\n",
    "text_features = layers.GlobalAveragePooling1D()(text_features)\n",
    "text_features = layers.Dropout(0.2)(text_features)\n",
    "text_features = layers.Dense(2, activation='relu', name=\"fake\")(text_features)"
   ]
  },
  {
   "cell_type": "code",
   "execution_count": 13,
   "metadata": {
    "colab": {
     "base_uri": "https://localhost:8080/"
    },
    "id": "tvCWUXvZjOgL",
    "outputId": "0d7662ca-2d63-4aa8-e35a-281130531f9d"
   },
   "outputs": [
    {
     "name": "stdout",
     "output_type": "stream",
     "text": [
      "Model: \"model_1\"\n",
      "_________________________________________________________________\n",
      " Layer (type)                Output Shape              Param #   \n",
      "=================================================================\n",
      " text (InputLayer)           [(None, 1)]               0         \n",
      "                                                                 \n",
      " text_vectorization_1 (TextV  (None, 500)              0         \n",
      " ectorization)                                                   \n",
      "                                                                 \n",
      " embedding (Embedding)       (None, 500, 3)            6000      \n",
      "                                                                 \n",
      " dropout_2 (Dropout)         (None, 500, 3)            0         \n",
      "                                                                 \n",
      " global_average_pooling1d_1   (None, 3)                0         \n",
      " (GlobalAveragePooling1D)                                        \n",
      "                                                                 \n",
      " dropout_3 (Dropout)         (None, 3)                 0         \n",
      "                                                                 \n",
      " fake (Dense)                (None, 2)                 8         \n",
      "                                                                 \n",
      "=================================================================\n",
      "Total params: 6,008\n",
      "Trainable params: 6,008\n",
      "Non-trainable params: 0\n",
      "_________________________________________________________________\n"
     ]
    }
   ],
   "source": [
    "model2 = keras.Model(\n",
    "    # only using text\n",
    "    inputs = [text_input],\n",
    "    outputs = text_features\n",
    ")\n",
    "\n",
    "model2.summary()"
   ]
  },
  {
   "cell_type": "code",
   "execution_count": 14,
   "metadata": {
    "colab": {
     "base_uri": "https://localhost:8080/",
     "height": 661
    },
    "id": "PW0jcLasjOiv",
    "outputId": "fd493c80-bd24-41e7-b3a3-1000f7d560db"
   },
   "outputs": [
    {
     "data": {
      "image/png": "[encoded data removed]",
      "text/plain": [
       "<IPython.core.display.Image object>"
      ]
     },
     "execution_count": 14,
     "metadata": {},
     "output_type": "execute_result"
    }
   ],
   "source": [
    "from tensorflow.keras import utils\n",
    "utils.plot_model(model2)"
   ]
  },
  {
   "cell_type": "code",
   "execution_count": 15,
   "metadata": {
    "id": "G080_0dtjOlW"
   },
   "outputs": [],
   "source": [
    "model2.compile(optimizer=\"adam\",\n",
    "              loss = losses.SparseCategoricalCrossentropy(from_logits=True),\n",
    "              metrics=[\"accuracy\"])"
   ]
  },
  {
   "cell_type": "code",
   "execution_count": 16,
   "metadata": {
    "colab": {
     "base_uri": "https://localhost:8080/"
    },
    "id": "gKFRzUPbjOnu",
    "outputId": "f20003f8-6b03-4154-9d5a-3afcbbe80748"
   },
   "outputs": [
    {
     "name": "stdout",
     "output_type": "stream",
     "text": [
      "Epoch 1/20\n"
     ]
    },
    {
     "name": "stderr",
     "output_type": "stream",
     "text": [
      "/usr/local/lib/python3.10/dist-packages/keras/engine/functional.py:639: UserWarning: Input dict contained keys ['title'] which did not match any model input. They will be ignored by the model.\n",
      "  inputs = self._flatten_to_reference_inputs(inputs)\n"
     ]
    },
    {
     "name": "stdout",
     "output_type": "stream",
     "text": [
      "180/180 [==============================] - 17s 88ms/step - loss: 0.6833 - accuracy: 0.5435 - val_loss: 0.6697 - val_accuracy: 0.6138\n",
      "Epoch 2/20\n",
      "180/180 [==============================] - 4s 19ms/step - loss: 0.6525 - accuracy: 0.7093 - val_loss: 0.6291 - val_accuracy: 0.7724\n",
      "Epoch 3/20\n",
      "180/180 [==============================] - 2s 12ms/step - loss: 0.6088 - accuracy: 0.8028 - val_loss: 0.5825 - val_accuracy: 0.8911\n",
      "Epoch 4/20\n",
      "180/180 [==============================] - 3s 18ms/step - loss: 0.5618 - accuracy: 0.8608 - val_loss: 0.5288 - val_accuracy: 0.9319\n",
      "Epoch 5/20\n",
      "180/180 [==============================] - 2s 11ms/step - loss: 0.5140 - accuracy: 0.8945 - val_loss: 0.4845 - val_accuracy: 0.9213\n",
      "Epoch 6/20\n",
      "180/180 [==============================] - 2s 12ms/step - loss: 0.4703 - accuracy: 0.9075 - val_loss: 0.4399 - val_accuracy: 0.9393\n",
      "Epoch 7/20\n",
      "180/180 [==============================] - 3s 15ms/step - loss: 0.4292 - accuracy: 0.9166 - val_loss: 0.4058 - val_accuracy: 0.9371\n",
      "Epoch 8/20\n",
      "180/180 [==============================] - 4s 21ms/step - loss: 0.3977 - accuracy: 0.9243 - val_loss: 0.3655 - val_accuracy: 0.9480\n",
      "Epoch 9/20\n",
      "180/180 [==============================] - 2s 11ms/step - loss: 0.3648 - accuracy: 0.9288 - val_loss: 0.3370 - val_accuracy: 0.9467\n",
      "Epoch 10/20\n",
      "180/180 [==============================] - 2s 13ms/step - loss: 0.3407 - accuracy: 0.9341 - val_loss: 0.3162 - val_accuracy: 0.9509\n",
      "Epoch 11/20\n",
      "180/180 [==============================] - 2s 11ms/step - loss: 0.3196 - accuracy: 0.9340 - val_loss: 0.2939 - val_accuracy: 0.9511\n",
      "Epoch 12/20\n",
      "180/180 [==============================] - 2s 11ms/step - loss: 0.2985 - accuracy: 0.9413 - val_loss: 0.2713 - val_accuracy: 0.9500\n",
      "Epoch 13/20\n",
      "180/180 [==============================] - 3s 17ms/step - loss: 0.2817 - accuracy: 0.9451 - val_loss: 0.2587 - val_accuracy: 0.9571\n",
      "Epoch 14/20\n",
      "180/180 [==============================] - 2s 13ms/step - loss: 0.2654 - accuracy: 0.9471 - val_loss: 0.2437 - val_accuracy: 0.9564\n",
      "Epoch 15/20\n",
      "180/180 [==============================] - 2s 11ms/step - loss: 0.2506 - accuracy: 0.9509 - val_loss: 0.2288 - val_accuracy: 0.9591\n",
      "Epoch 16/20\n",
      "180/180 [==============================] - 2s 12ms/step - loss: 0.2397 - accuracy: 0.9513 - val_loss: 0.2189 - val_accuracy: 0.9607\n",
      "Epoch 17/20\n",
      "180/180 [==============================] - 3s 17ms/step - loss: 0.2313 - accuracy: 0.9531 - val_loss: 0.2109 - val_accuracy: 0.9627\n",
      "Epoch 18/20\n",
      "180/180 [==============================] - 2s 12ms/step - loss: 0.2184 - accuracy: 0.9555 - val_loss: 0.2013 - val_accuracy: 0.9463\n",
      "Epoch 19/20\n",
      "180/180 [==============================] - 2s 12ms/step - loss: 0.2108 - accuracy: 0.9555 - val_loss: 0.1847 - val_accuracy: 0.9647\n",
      "Epoch 20/20\n",
      "180/180 [==============================] - 2s 12ms/step - loss: 0.2016 - accuracy: 0.9572 - val_loss: 0.1892 - val_accuracy: 0.9611\n"
     ]
    }
   ],
   "source": [
    "history = model2.fit(train,\n",
    "                    validation_data=val,\n",
    "                    epochs = 20,\n",
    "                    verbose = True)"
   ]
  },
  {
   "cell_type": "code",
   "execution_count": 17,
   "metadata": {
    "colab": {
     "base_uri": "https://localhost:8080/",
     "height": 467
    },
    "id": "PBRxudQMjOqU",
    "outputId": "fa9f2310-af62-4f30-8887-b79c4ef487e1"
   },
   "outputs": [
    {
     "data": {
      "text/plain": [
       "<matplotlib.legend.Legend at 0x7cac23f79360>"
      ]
     },
     "execution_count": 17,
     "metadata": {},
     "output_type": "execute_result"
    },
    {
     "data": {
      "image/png": "[encoded data removed]",
      "text/plain": [
       "<Figure size 640x480 with 1 Axes>"
      ]
     },
     "metadata": {},
     "output_type": "display_data"
    }
   ],
   "source": [
    "plt.plot(history.history[\"accuracy\"], label = \"training\")\n",
    "plt.plot(history.history[\"val_accuracy\"], label = \"validation\")\n",
    "plt.gca().set(xlabel = \"epoch\", ylabel = \"accuracy\")\n",
    "plt.legend()"
   ]
  },
  {
   "cell_type": "markdown",
   "metadata": {
    "id": "zrjq5VrwGz6V"
   },
   "source": [
    "We observe that the validation accuracy stabilized between 95% and 97%."
   ]
  },
  {
   "cell_type": "markdown",
   "metadata": {
    "id": "TrzbHQcxhO9F"
   },
   "source": [
    "## Third Model\n",
    "\n",
    "The third model will only make use of **both** the article's title and text."
   ]
  },
  {
   "cell_type": "code",
   "execution_count": 18,
   "metadata": {
    "id": "WLp1U2KCjOxF"
   },
   "outputs": [],
   "source": [
    "title_features = title_vectorize_layer(title_input)\n",
    "text_features = text_vectorize_layer(text_input)\n",
    "\n",
    "# share an embedding layer\n",
    "shared_embedding = layers.Embedding(size_vocabulary, 10)\n",
    "title_features = shared_embedding(title_features)\n",
    "text_features = shared_embedding(text_features)\n",
    "title_features = layers.Dense(32, activation='relu')(title_features)\n",
    "text_features = layers.Dense(32, activation='relu')(text_features)\n",
    "\n",
    "main = layers.concatenate([title_features, text_features], axis = 1)\n",
    "main = layers.Dropout(0.2)(main)\n",
    "main = layers.GlobalAveragePooling1D()(main)\n",
    "main = layers.Dropout(0.2)(main)\n",
    "main = layers.Dense(2, activation='relu', name = 'fake')(main)\n"
   ]
  },
  {
   "cell_type": "code",
   "execution_count": 19,
   "metadata": {
    "colab": {
     "base_uri": "https://localhost:8080/"
    },
    "id": "po9Ca6kcPOlP",
    "outputId": "fd4f1adc-a6ad-439f-8f94-4b0c1fb46153"
   },
   "outputs": [
    {
     "name": "stdout",
     "output_type": "stream",
     "text": [
      "Model: \"model_2\"\n",
      "__________________________________________________________________________________________________\n",
      " Layer (type)                   Output Shape         Param #     Connected to                     \n",
      "==================================================================================================\n",
      " title (InputLayer)             [(None, 1)]          0           []                               \n",
      "                                                                                                  \n",
      " text (InputLayer)              [(None, 1)]          0           []                               \n",
      "                                                                                                  \n",
      " text_vectorization (TextVector  (None, 500)         0           ['title[0][0]']                  \n",
      " ization)                                                                                         \n",
      "                                                                                                  \n",
      " text_vectorization_1 (TextVect  (None, 500)         0           ['text[0][0]']                   \n",
      " orization)                                                                                       \n",
      "                                                                                                  \n",
      " embedding (Embedding)          (None, 500, 10)      20000       ['text_vectorization[1][0]',     \n",
      "                                                                  'text_vectorization_1[1][0]']   \n",
      "                                                                                                  \n",
      " dense (Dense)                  (None, 500, 32)      352         ['embedding[0][0]']              \n",
      "                                                                                                  \n",
      " dense_1 (Dense)                (None, 500, 32)      352         ['embedding[1][0]']              \n",
      "                                                                                                  \n",
      " concatenate (Concatenate)      (None, 1000, 32)     0           ['dense[0][0]',                  \n",
      "                                                                  'dense_1[0][0]']                \n",
      "                                                                                                  \n",
      " dropout_4 (Dropout)            (None, 1000, 32)     0           ['concatenate[0][0]']            \n",
      "                                                                                                  \n",
      " global_average_pooling1d_2 (Gl  (None, 32)          0           ['dropout_4[0][0]']              \n",
      " obalAveragePooling1D)                                                                            \n",
      "                                                                                                  \n",
      " dropout_5 (Dropout)            (None, 32)           0           ['global_average_pooling1d_2[0][0\n",
      "                                                                 ]']                              \n",
      "                                                                                                  \n",
      " fake (Dense)                   (None, 2)            66          ['dropout_5[0][0]']              \n",
      "                                                                                                  \n",
      "==================================================================================================\n",
      "Total params: 20,770\n",
      "Trainable params: 20,770\n",
      "Non-trainable params: 0\n",
      "__________________________________________________________________________________________________\n"
     ]
    }
   ],
   "source": [
    "model3 = keras.Model(\n",
    "    inputs = [title_input, text_input],\n",
    "    outputs = main\n",
    ")\n",
    "\n",
    "model3.summary()"
   ]
  },
  {
   "cell_type": "code",
   "execution_count": 20,
   "metadata": {
    "colab": {
     "base_uri": "https://localhost:8080/",
     "height": 856
    },
    "id": "0dsZiwF7POnt",
    "outputId": "8f68137e-9268-4850-ca50-3c3e03325584"
   },
   "outputs": [
    {
     "data": {
      "image/png": "[encoded data removed]",
      "text/plain": [
       "<IPython.core.display.Image object>"
      ]
     },
     "execution_count": 20,
     "metadata": {},
     "output_type": "execute_result"
    }
   ],
   "source": [
    "keras.utils.plot_model(model3)"
   ]
  },
  {
   "cell_type": "code",
   "execution_count": 21,
   "metadata": {
    "id": "ctAyYMvgPOp_"
   },
   "outputs": [],
   "source": [
    "model3.compile(optimizer=\"adam\",\n",
    "              loss = losses.SparseCategoricalCrossentropy(from_logits=True),\n",
    "              metrics=[\"accuracy\"])"
   ]
  },
  {
   "cell_type": "code",
   "execution_count": 22,
   "metadata": {
    "colab": {
     "base_uri": "https://localhost:8080/"
    },
    "id": "XxTP4WeWPOsf",
    "outputId": "b8886ca8-22bb-4f33-899c-c767ff53e1a2"
   },
   "outputs": [
    {
     "name": "stdout",
     "output_type": "stream",
     "text": [
      "Epoch 1/20\n",
      "180/180 [==============================] - 18s 88ms/step - loss: 0.6790 - accuracy: 0.5439 - val_loss: 0.6346 - val_accuracy: 0.6862\n",
      "Epoch 2/20\n",
      "180/180 [==============================] - 4s 20ms/step - loss: 0.5197 - accuracy: 0.8429 - val_loss: 0.3826 - val_accuracy: 0.9176\n",
      "Epoch 3/20\n",
      "180/180 [==============================] - 3s 16ms/step - loss: 0.3240 - accuracy: 0.9160 - val_loss: 0.2372 - val_accuracy: 0.9567\n",
      "Epoch 4/20\n",
      "180/180 [==============================] - 3s 17ms/step - loss: 0.2416 - accuracy: 0.9345 - val_loss: 0.1888 - val_accuracy: 0.9584\n",
      "Epoch 5/20\n",
      "180/180 [==============================] - 3s 16ms/step - loss: 0.1980 - accuracy: 0.9488 - val_loss: 0.1531 - val_accuracy: 0.9649\n",
      "Epoch 6/20\n",
      "180/180 [==============================] - 3s 16ms/step - loss: 0.1694 - accuracy: 0.9574 - val_loss: 0.1284 - val_accuracy: 0.9726\n",
      "Epoch 7/20\n",
      "180/180 [==============================] - 4s 21ms/step - loss: 0.1532 - accuracy: 0.9605 - val_loss: 0.1162 - val_accuracy: 0.9773\n",
      "Epoch 8/20\n",
      "180/180 [==============================] - 3s 16ms/step - loss: 0.1387 - accuracy: 0.9631 - val_loss: 0.1069 - val_accuracy: 0.9753\n",
      "Epoch 9/20\n",
      "180/180 [==============================] - 3s 17ms/step - loss: 0.1308 - accuracy: 0.9662 - val_loss: 0.0984 - val_accuracy: 0.9762\n",
      "Epoch 10/20\n",
      "180/180 [==============================] - 3s 17ms/step - loss: 0.1197 - accuracy: 0.9686 - val_loss: 0.0806 - val_accuracy: 0.9820\n",
      "Epoch 11/20\n",
      "180/180 [==============================] - 4s 21ms/step - loss: 0.1127 - accuracy: 0.9682 - val_loss: 0.0768 - val_accuracy: 0.9831\n",
      "Epoch 12/20\n",
      "180/180 [==============================] - 3s 16ms/step - loss: 0.1044 - accuracy: 0.9714 - val_loss: 0.0728 - val_accuracy: 0.9831\n",
      "Epoch 13/20\n",
      "180/180 [==============================] - 3s 16ms/step - loss: 0.0979 - accuracy: 0.9726 - val_loss: 0.0716 - val_accuracy: 0.9842\n",
      "Epoch 14/20\n",
      "180/180 [==============================] - 4s 22ms/step - loss: 0.0938 - accuracy: 0.9748 - val_loss: 0.0659 - val_accuracy: 0.9878\n",
      "Epoch 15/20\n",
      "180/180 [==============================] - 3s 16ms/step - loss: 0.0855 - accuracy: 0.9760 - val_loss: 0.0625 - val_accuracy: 0.9851\n",
      "Epoch 16/20\n",
      "180/180 [==============================] - 3s 16ms/step - loss: 0.0837 - accuracy: 0.9754 - val_loss: 0.0574 - val_accuracy: 0.9876\n",
      "Epoch 17/20\n",
      "180/180 [==============================] - 3s 17ms/step - loss: 0.0799 - accuracy: 0.9779 - val_loss: 0.0534 - val_accuracy: 0.9876\n",
      "Epoch 18/20\n",
      "180/180 [==============================] - 3s 16ms/step - loss: 0.0762 - accuracy: 0.9787 - val_loss: 0.0527 - val_accuracy: 0.9891\n",
      "Epoch 19/20\n",
      "180/180 [==============================] - 4s 23ms/step - loss: 0.0713 - accuracy: 0.9804 - val_loss: 0.0438 - val_accuracy: 0.9907\n",
      "Epoch 20/20\n",
      "180/180 [==============================] - 3s 17ms/step - loss: 0.0691 - accuracy: 0.9798 - val_loss: 0.0460 - val_accuracy: 0.9889\n"
     ]
    }
   ],
   "source": [
    "history = model3.fit(train,\n",
    "                    validation_data=val,\n",
    "                    epochs = 20,\n",
    "                    verbose = True)"
   ]
  },
  {
   "cell_type": "code",
   "execution_count": 23,
   "metadata": {
    "colab": {
     "base_uri": "https://localhost:8080/",
     "height": 467
    },
    "id": "NoVkhNXkPOvF",
    "outputId": "c0f9b966-1a8d-4129-8704-d56c860e6d9b"
   },
   "outputs": [
    {
     "data": {
      "text/plain": [
       "<matplotlib.legend.Legend at 0x7cac00449150>"
      ]
     },
     "execution_count": 23,
     "metadata": {},
     "output_type": "execute_result"
    },
    {
     "data": {
      "image/png": "[encoded data removed]",
      "text/plain": [
       "<Figure size 640x480 with 1 Axes>"
      ]
     },
     "metadata": {},
     "output_type": "display_data"
    }
   ],
   "source": [
    "plt.plot(history.history[\"accuracy\"], label = \"training\")\n",
    "plt.plot(history.history[\"val_accuracy\"], label = \"validation\")\n",
    "plt.gca().set(xlabel = \"epoch\", ylabel = \"accuracy\")\n",
    "plt.legend()"
   ]
  },
  {
   "cell_type": "markdown",
   "metadata": {
    "id": "7lMTnzf3HEwh"
   },
   "source": [
    "We observe that the validation accuracy stabilized between 97% and 99%."
   ]
  },
  {
   "cell_type": "markdown",
   "metadata": {
    "id": "r009xwYKhS3Z"
   },
   "source": [
    "# 4. Best Model Evaluation\n",
    "\n",
    "Using the best model (the third model), we will test the model performance on unseen test data. First, we will need to convert the dataset using the function `make_dataset()` defined in Part 2."
   ]
  },
  {
   "cell_type": "code",
   "execution_count": 24,
   "metadata": {
    "colab": {
     "base_uri": "https://localhost:8080/"
    },
    "id": "iqMC_Pv3POxa",
    "outputId": "d7678f4f-8d09-4fc5-ee27-c043b85b68b4"
   },
   "outputs": [
    {
     "name": "stdout",
     "output_type": "stream",
     "text": [
      "225/225 [==============================] - 3s 15ms/step - loss: 0.0578 - accuracy: 0.9848\n"
     ]
    },
    {
     "data": {
      "text/plain": [
       "[0.057782068848609924, 0.9848099946975708]"
      ]
     },
     "execution_count": 24,
     "metadata": {},
     "output_type": "execute_result"
    }
   ],
   "source": [
    "test_url = \"https://github.com/PhilChodrow/PIC16b/blob/master/datasets/fake_news_test.csv?raw=true\"\n",
    "test_df = pd.read_csv(test_url)\n",
    "test = make_dataset(test_df)\n",
    "\n",
    "model3.evaluate(test, verbose=1)"
   ]
  },
  {
   "cell_type": "markdown",
   "metadata": {
    "id": "5r7fZMBCHlRD"
   },
   "source": [
    "We get 98.48% as our accuracy. That is impressive!"
   ]
  },
  {
   "cell_type": "markdown",
   "metadata": {
    "id": "-CZJoABthWPw"
   },
   "source": [
    "# 5. Embedding Visualization\n",
    "\n",
    "Lastly, we will visualize our embedding layer from the best model. To achieve this, we will use principal component analysis (PCA) to reduce the dimension down. In particular, we will create a 2-dimensional embedding plot."
   ]
  },
  {
   "cell_type": "code",
   "execution_count": null,
   "metadata": {
    "id": "TBEQyHJMPOzw",
    "tags": []
   },
   "outputs": [],
   "source": [
    "weights = model3.get_layer('embedding').get_weights()[0] # get the weights from the embedding layer\n",
    "vocab = title_vectorize_layer.get_vocabulary() # get the vocabulary from our data prep for later\n",
    "\n",
    "from sklearn.decomposition import PCA\n",
    "pca = PCA(n_components=2)\n",
    "weights = pca.fit_transform(weights)\n",
    "\n",
    "embedding_df = pd.DataFrame({\n",
    "    'word' : vocab,\n",
    "    'x0'   : weights[:,0],\n",
    "    'x1'   : weights[:,1]\n",
    "})"
   ]
  },
  {
   "cell_type": "code",
   "execution_count": null,
   "metadata": {
    "colab": {
     "base_uri": "https://localhost:8080/",
     "height": 542
    },
    "id": "I2qnqzQ1PO20",
    "outputId": "52758ae2-8927-45d0-f257-8ba2781619ae",
    "tags": []
   },
   "outputs": [],
   "source": [
    "import plotly.express as px\n",
    "fig = px.scatter(embedding_df,\n",
    "                 x = \"x0\",\n",
    "                 y = \"x1\",\n",
    "                 size = [2]*len(embedding_df),\n",
    "                 hover_name = \"word\")\n",
    "\n",
    "fig.show()"
   ]
  },
  {
   "cell_type": "markdown",
   "metadata": {},
   "source": [
    "Unfortunately, the plot was not rendered through Quarto, so I have screenshotted the visualization from Google Colab (attached below)."
   ]
  },
  {
   "cell_type": "markdown",
   "metadata": {},
   "source": [
    "![](embeddings.png)"
   ]
  }
 ],
 "metadata": {
  "accelerator": "GPU",
  "colab": {
   "gpuType": "T4",
   "provenance": []
  },
  "kernelspec": {
   "display_name": "Python 3 (ipykernel)",
   "language": "python",
   "name": "python3"
  },
  "language_info": {
   "codemirror_mode": {
    "name": "ipython",
    "version": 3
   },
   "file_extension": ".py",
   "mimetype": "text/x-python",
   "name": "python",
   "nbconvert_exporter": "python",
   "pygments_lexer": "ipython3",
   "version": "3.8.16"
  }
 },
 "nbformat": 4,
 "nbformat_minor": 4
}

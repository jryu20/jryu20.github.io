{
 "cells": [
  {
   "cell_type": "markdown",
   "id": "0f6424b6-314f-4f1a-80e7-08ab395031a6",
   "metadata": {},
   "source": [
    "---\n",
    "title: \"NSDC Sample Workshop\"\n",
    "image: distr.png\n",
    "format:\n",
    "  html:\n",
    "    toc: true\n",
    "author: \"Jun Ryu\"\n",
    "date: \"2023-11-20\"\n",
    "categories: [python, visualizations]\n",
    "---"
   ]
  },
  {
   "cell_type": "markdown",
   "id": "5d705b05-3139-4661-9468-3faffd4e6d00",
   "metadata": {},
   "source": [
    ">Here is a sample workshop we held in Fall 2023, tailored for beginners and open to the general public. The workshop, titled \"Analyzing Grade Distributions,\" aimed to create a more engaging and interactive environment for attendees.\n",
    "\n",
    "As workshop leads, we focused on active learning, enabling participants to code a meaningful and tangible product rather than passively listening to a presentation. This approach allowed attendees to leave with a presentable project, fostered creative problem-solving, and promoted collaboration.\n",
    "\n",
    "We developed an original Jupyter notebook for attendees to work through and made the workshop relevant to UCLA students by focusing on a topic they care about: **grade distributions**. This fun exploration using Python enabled attendees to visualize grade distributions of their own classes based on past data.\n",
    "\n",
    "Since the workshop was meant for beginners, the Jupyter notebook provided to the attendees contained very detailed instructions and guidelines, including links to relevant documentation. More technical portions of the notebook were pre-filled by us, and we designed the tasks to be easy enough for individuals with no coding background to follow at a reasonable pace.\n",
    "\n",
    "The Jupyter notebook (that contains the solutions) can be found [here](https://colab.research.google.com/drive/1h2UhovVtzEaaw4aKxJY9Qladk4PqHv7l?usp=sharing)."
   ]
  },
  {
   "cell_type": "code",
   "execution_count": null,
   "id": "9a8bc275-2b29-4942-bfa8-a4fa311a8a4e",
   "metadata": {},
   "outputs": [],
   "source": []
  }
 ],
 "metadata": {
  "kernelspec": {
   "display_name": "Python 3 (ipykernel)",
   "language": "python",
   "name": "python3"
  },
  "language_info": {
   "codemirror_mode": {
    "name": "ipython",
    "version": 3
   },
   "file_extension": ".py",
   "mimetype": "text/x-python",
   "name": "python",
   "nbconvert_exporter": "python",
   "pygments_lexer": "ipython3",
   "version": "3.9.13"
  }
 },
 "nbformat": 4,
 "nbformat_minor": 5
}
